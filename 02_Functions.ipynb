{
 "cells": [
  {
   "cell_type": "code",
   "execution_count": null,
   "metadata": {},
   "outputs": [],
   "source": [
    "import re\n",
    "import gensim\n",
    "import nltk\n",
    "from nltk.tokenize import word_tokenize, sent_tokenize \n",
    "from nltk.corpus import wordnet as wn"
   ]
  },
  {
   "cell_type": "code",
   "execution_count": null,
   "metadata": {},
   "outputs": [],
   "source": [
    "#using the same corpus as lesson 8.05\n",
    "model = gensim.models.KeyedVectors.load_word2vec_format('./lexvec.enwiki+newscrawl.300d.W.pos.vectors')"
   ]
  },
  {
   "cell_type": "code",
   "execution_count": null,
   "metadata": {},
   "outputs": [],
   "source": [
    "def most_similar(txt):\n",
    "    rm_punc = re.sub(r'[^\\w\\s]', '', txt)\n",
    "    txt_list = rm_punc.split()\n",
    "    masc = ['active', 'adventurous', 'aggress', 'ambitio', 'analy', 'assert', 'athlet', 'autonom',\n",
    "'boast', 'challeng', 'compet', 'confident', 'courag', 'dominant', 'domina', 'decide', 'decisive', 'decision',\n",
    "'determin', 'force', 'greedy', 'headstrong', 'hierarch', 'hostil', 'impulsive',\n",
    "'independen', 'individual', 'intellect', 'lead', 'logic', 'masculine', 'objective', 'opinion', 'outspoken', \n",
    "'persist', 'principle', 'reckless', 'stubborn', 'superior', 'self-confiden', 'self-sufficien', 'self-relian']\n",
    "    suggestions = []    \n",
    "    for word in txt_list:\n",
    "        for fragment in masc:\n",
    "            if word.startswith(fragment):\n",
    "                temp = (word, [])\n",
    "                for similar_word in model.most_similar(word):\n",
    "                    if not similar_word[0].startswith(fragment):\n",
    "                        temp[1].append(similar_word[0])\n",
    "                suggestions.append(temp)\n",
    "    return suggestions"
   ]
  },
  {
   "cell_type": "code",
   "execution_count": null,
   "metadata": {},
   "outputs": [],
   "source": [
    "def hypernyms(txt):\n",
    "    rm_punc = re.sub(r'[^\\w\\s]', '', txt)\n",
    "    masc = ['active', 'adventurous', 'aggress', 'ambitio', 'analy', 'assert', 'athlet', 'autonom',\n",
    "'boast', 'challeng', 'compet', 'confident', 'courag', 'dominant', 'domina', 'decide', 'decisive', 'decision',\n",
    "'determin', 'force', 'greedy', 'headstrong', 'hierarch', 'hostil', 'impulsive',\n",
    "'independen', 'individual', 'intellect', 'lead', 'logic', 'masculine', 'objective', 'opinion', 'outspoken', \n",
    "'persist', 'principle', 'reckless', 'stubborn', 'superior', 'self-confiden', 'self-sufficien', 'self-relian']\n",
    "    suggestions = []  \n",
    "    dictionary = {}\n",
    "    tokenized = sent_tokenize(rm_punc)\n",
    "    for words in tokenized:\n",
    "        word_lst = nltk.word_tokenize(words)\n",
    "        tagged = nltk.pos_tag(word_lst)\n",
    "    for item in tagged:\n",
    "        for fragment in masc:\n",
    "            if fragment in item[0]:\n",
    "                temp = (item[0], [])\n",
    "                dictionary[item[0]] = item[1]\n",
    "                if dictionary[item[0]].startswith('N'):\n",
    "                     pos = 'n'\n",
    "                elif dictionary[item[0]].startswith('J'):\n",
    "                    pos = 'a'\n",
    "                elif dictionary[item[0]].startswith('R'):\n",
    "                     pos = 'r'\n",
    "                elif dictionary[item[0]].startswith('V'):\n",
    "                    pos = 'v'\n",
    "                for sinset in wn.synsets(item[0], pos):\n",
    "                    for hypernym in wn.synset(sinset.name()).hypernyms():\n",
    "                        if fragment not in hypernym.name().split('.')[0]: \n",
    "                            temp[1].append(hypernym.name().split('.')[0])\n",
    "                suggestions.append(temp)\n",
    "    return suggestions"
   ]
  },
  {
   "cell_type": "code",
   "execution_count": null,
   "metadata": {},
   "outputs": [],
   "source": [
    "def hyponyms(txt):\n",
    "    rm_punc = re.sub(r'[^\\w\\s]', '', txt)\n",
    "    masc = ['active', 'adventurous', 'aggress', 'ambitio', 'analy', 'assert', 'athlet', 'autonom',\n",
    "'boast', 'challeng', 'compet', 'confident', 'courag', 'dominant', 'domina', 'decide', 'decisive', 'decision',\n",
    "'determin', 'force', 'greedy', 'headstrong', 'hierarch', 'hostil', 'impulsive',\n",
    "'independen', 'individual', 'intellect', 'lead', 'logic', 'masculine', 'objective', 'opinion', 'outspoken', \n",
    "'persist', 'principle', 'reckless', 'stubborn', 'superior', 'self-confiden', 'self-sufficien', 'self-relian']\n",
    "    suggestions = []  \n",
    "    dictionary = {}\n",
    "    tokenized = sent_tokenize(rm_punc)\n",
    "    for words in tokenized:\n",
    "        word_lst = nltk.word_tokenize(words)\n",
    "        tagged = nltk.pos_tag(word_lst)\n",
    "    for item in tagged:\n",
    "        for fragment in masc:\n",
    "            if fragment in item[0]:\n",
    "                temp = (item[0], [])\n",
    "                dictionary[item[0]] = item[1]\n",
    "                if dictionary[item[0]].startswith('N'):\n",
    "                     pos = 'n'\n",
    "                elif dictionary[item[0]].startswith('J'):\n",
    "                    pos = 'a'\n",
    "                elif dictionary[item[0]].startswith('R'):\n",
    "                     pos = 'r'\n",
    "                elif dictionary[item[0]].startswith('V'):\n",
    "                    pos = 'v'\n",
    "                for sinset in wn.synsets(item[0], pos):\n",
    "                    for hyponym in wn.synset(sinset.name()).hyponyms():\n",
    "                        if fragment not in hyponym.name().split('.')[0]: \n",
    "                            temp[1].append(hyponym.name().split('.')[0])\n",
    "                suggestions.append(temp)\n",
    "    return suggestions"
   ]
  }
 ],
 "metadata": {
  "kernelspec": {
   "display_name": "Python 3",
   "language": "python",
   "name": "python3"
  },
  "language_info": {
   "codemirror_mode": {
    "name": "ipython",
    "version": 3
   },
   "file_extension": ".py",
   "mimetype": "text/x-python",
   "name": "python",
   "nbconvert_exporter": "python",
   "pygments_lexer": "ipython3",
   "version": "3.7.6"
  }
 },
 "nbformat": 4,
 "nbformat_minor": 4
}
