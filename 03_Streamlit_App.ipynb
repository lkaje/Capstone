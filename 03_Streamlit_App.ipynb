{
 "cells": [
  {
   "cell_type": "code",
   "execution_count": 22,
   "metadata": {},
   "outputs": [],
   "source": [
    "# Uncomment to run\n",
    "#pip install streamlit\n",
    "\n",
    "#pip install st-annotated-text"
   ]
  },
  {
   "cell_type": "code",
   "execution_count": 15,
   "metadata": {},
   "outputs": [],
   "source": [
    "import streamlit as st\n",
    "from htbuilder import annotated_text\n",
    "import re"
   ]
  },
  {
   "cell_type": "code",
   "execution_count": 21,
   "metadata": {},
   "outputs": [],
   "source": [
    "user_input = st.text_area(\"Job Description\", value='')"
   ]
  },
  {
   "cell_type": "code",
   "execution_count": null,
   "metadata": {},
   "outputs": [],
   "source": []
  },
  {
   "cell_type": "code",
   "execution_count": 18,
   "metadata": {},
   "outputs": [],
   "source": [
    "masc = ['active', 'adventurous', 'aggress', 'ambitio', 'analy', 'assert', 'athlet', 'autonom',\n",
    "'boast', 'challeng', 'compet', 'confident', 'courag', 'dominant', 'domina', 'decide', 'decisive', 'decision',\n",
    "'determin', 'force', 'greedy', 'headstrong', 'hierarch', 'hostil', 'impulsive',\n",
    "'independen', 'individual', 'intellect', 'lead', 'logic', 'masculine', 'objective', 'opinion', 'outspoken', \n",
    "'persist', 'principle', 'reckless', 'stubborn', 'superior', 'self-confiden', 'self-sufficien', 'self-relian']\n",
    "def highlight(user_input):\n",
    "    rm_punc = re.sub(r'[^\\w\\s]', ' ', user_input) #remove punctuation and replace it with a space\n",
    "    txt_list = rm_punc.split() #split on the white space\n",
    "    for word in txt_list: #for each word in the user input\n",
    "        for fragment in masc: #and for each fragment/word in the list of subjectively masculine words\n",
    "            if fragment in word: #if the word contains a fragment\n",
    "                return annotated_text((user_input, masc, '#faa'))"
   ]
  },
  {
   "cell_type": "code",
   "execution_count": null,
   "metadata": {},
   "outputs": [],
   "source": []
  },
  {
   "cell_type": "code",
   "execution_count": 23,
   "metadata": {},
   "outputs": [],
   "source": [
    "if st.button('Review'):\n",
    "    result = highlight(user_input)\n",
    "    st.write('result: %s' % result)"
   ]
  },
  {
   "cell_type": "code",
   "execution_count": null,
   "metadata": {},
   "outputs": [],
   "source": []
  }
 ],
 "metadata": {
  "kernelspec": {
   "display_name": "Python 3",
   "language": "python",
   "name": "python3"
  },
  "language_info": {
   "codemirror_mode": {
    "name": "ipython",
    "version": 3
   },
   "file_extension": ".py",
   "mimetype": "text/x-python",
   "name": "python",
   "nbconvert_exporter": "python",
   "pygments_lexer": "ipython3",
   "version": "3.7.6"
  }
 },
 "nbformat": 4,
 "nbformat_minor": 4
}
