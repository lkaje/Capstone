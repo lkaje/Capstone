{
 "cells": [
  {
   "cell_type": "code",
   "execution_count": 7,
   "metadata": {},
   "outputs": [
    {
     "ename": "SyntaxError",
     "evalue": "invalid syntax (<ipython-input-7-22215f179c87>, line 4)",
     "output_type": "error",
     "traceback": [
      "\u001b[0;36m  File \u001b[0;32m\"<ipython-input-7-22215f179c87>\"\u001b[0;36m, line \u001b[0;32m4\u001b[0m\n\u001b[0;31m    pip install st_annotated_text\u001b[0m\n\u001b[0m              ^\u001b[0m\n\u001b[0;31mSyntaxError\u001b[0m\u001b[0;31m:\u001b[0m invalid syntax\n"
     ]
    }
   ],
   "source": [
    "# Uncomment to run\n",
    "#pip install streamlit\n",
    "\n",
    "#pip install st-annotated-text"
   ]
  },
  {
   "cell_type": "code",
   "execution_count": 4,
   "metadata": {},
   "outputs": [],
   "source": [
    "import streamlit as st"
   ]
  },
  {
   "cell_type": "code",
   "execution_count": 15,
   "metadata": {},
   "outputs": [],
   "source": [
    "from htbuilder import annotated_text\n",
    "import re"
   ]
  },
  {
   "cell_type": "code",
   "execution_count": 16,
   "metadata": {},
   "outputs": [],
   "source": [
    "masc = ['active', 'adventurous', 'aggress', 'ambitio', 'analy', 'assert', 'athlet', 'autonom',\n",
    "'boast', 'challeng', 'compet', 'confident', 'courag', 'dominant', 'domina', 'decide', 'decisive', 'decision',\n",
    "'determin', 'force', 'greedy', 'headstrong', 'hierarch', 'hostil', 'impulsive',\n",
    "'independen', 'individual', 'intellect', 'lead', 'logic', 'masculine', 'objective', 'opinion', 'outspoken', \n",
    "'persist', 'principle', 'reckless', 'stubborn', 'superior', 'self-confiden', 'self-sufficien', 'self-relian']\n",
    "def highlight(txt):\n",
    "    rm_punc = re.sub(r'[^\\w\\s]', ' ', txt) #remove punctuation and replace it with a space\n",
    "    txt_list = rm_punc.split() #split on the white space\n",
    "    for word in txt_list: #for each word in the user input\n",
    "        for fragment in masc: #and for each fragment/word in the list of subjectively masculine words\n",
    "            if fragment in word: #if the word contains a fragment\n",
    "                annotated_text((txt, masc, '#faa'))"
   ]
  },
  {
   "cell_type": "code",
   "execution_count": 17,
   "metadata": {},
   "outputs": [],
   "source": [
    "highlight('''<p><b>POSITION SUMMARY</b></p>, <p>\\r\\r\\nThe Business Analyst role is the primary architect of challenging and dashboard solutions for internal and external clients. Utilizing ESI corporate standard development tools this position is responsible for the design, development, implementation, analysis, interpretation and communication of business information based on the needs of individual clients. The ability to balance overall aesthetics with robust and intuitive functionality is a critical requirement for success in this position.</p>, <p><b>\\r\\r\\nESSENTIAL FUNCTIONS</b></p>, <ul><li>\\r\\r\\nSuccessfully design and implement external client data reporting and dashboard solutions with a strong focus on product aesthetics and functionality.</li><li>\\r\\r\\nAid in the design, development, and implementation of new product ideas for external and internal clients.</li><li>\\r\\r\\nMaintain Live and Data Warehouse Business Objects Universes; add new fields, modify table joins, implement data structures that streamline report extraction and data analysis.</li><li>\\r\\r\\nDevelop and document best practices for all points throughout the design and implementation process.</li><li>\\r\\r\\nCoordinate and interface with Account Management and Implementation teams to gather product design requirements and provide insight into capabilities and solutions.</li><li>\\r\\r\\nResearch and present new software and technology solutions to other internal developers, as well as management, to allow for the evaluation and potential integration of new development tools.</li></ul>, <p><b>QUALIFICATIONS</b></p>, <ul><li><p>\\r\\r\\nBachelor’s degree in related field or 8 to 11 years of experience.</p></li><li>\\r\\r\\n2-5 years relevant experience with Bachelor’s Degree or Master’s degree and 0-3 years of relevant experience.</li><li>\\r\\r\\nRecent experience creating Business Objects XI reports.</li><li>\\r\\r\\nDesigning data visualization applications using SAP Xcelsius 2008 software.</li><li>\\r\\r\\nDesigning, implementing and maintaining data universe structures using Business Objects Universe Designer.</li><li>\\r\\r\\nSQL, AS400, Adobe Flex, Flash experience preferred.</li><li>\\r\\r\\nCreative problem solver.</li><li>\\r\\r\\nFundamental commitment to creating customer value through technical innovation.<br/>\\r\\r\\n</li></ul>, <p>\\r\\r\\nBachelor’s degree in related field or 8 to 11 years of experience.</p>, <p><b>\\r\\r\\nABOUT THE DEPARTMENT</b></p>, <p><b>\\r\\r\\nABOUT EXPRESS SCRIPTS</b></p>, <p>\\r\\r\\nAdvance your career with the company that makes it easier for people to choose better health.</p>, <p>\\r\\r\\nExpress Scripts is a leading healthcare company serving tens of millions of consumers. We are looking for individuals who are passionate, creative and committed to creating systems and service solutions that promote better health outcomes. Join the company that Fortune magazine ranked as one of the \"Most Admired Companies\" in the pharmacy category. Then, use your intelligence, creativity, integrity and hard work to help us enhance our products and services. We offer a highly competitive base salary and a comprehensive benefits program, including medical, prescription drug, dental, vision, 401(k) with company match, life insurance, paid time off, tuition assistance and an employee stock purchase plan.</p>, <p>\\r\\r\\nExpress Scripts is an equal opportunity employer/disability/veteran</p>''')"
   ]
  },
  {
   "cell_type": "code",
   "execution_count": null,
   "metadata": {},
   "outputs": [],
   "source": []
  }
 ],
 "metadata": {
  "kernelspec": {
   "display_name": "Python 3",
   "language": "python",
   "name": "python3"
  },
  "language_info": {
   "codemirror_mode": {
    "name": "ipython",
    "version": 3
   },
   "file_extension": ".py",
   "mimetype": "text/x-python",
   "name": "python",
   "nbconvert_exporter": "python",
   "pygments_lexer": "ipython3",
   "version": "3.7.6"
  }
 },
 "nbformat": 4,
 "nbformat_minor": 4
}
